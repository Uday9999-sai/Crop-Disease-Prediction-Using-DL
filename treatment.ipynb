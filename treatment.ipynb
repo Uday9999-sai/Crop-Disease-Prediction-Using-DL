{
 "cells": [
  {
   "cell_type": "code",
   "execution_count": 8,
   "metadata": {},
   "outputs": [],
   "source": [
    "from sklearn.model_selection import train_test_split\n",
    "from sklearn.preprocessing import LabelEncoder\n",
    "from sklearn.ensemble import RandomForestClassifier\n",
    "import pickle\n",
    "import numpy as np\n",
    "\n",
    "\n",
    "data = {\n",
    "    'disease': [\n",
    "        'Apple___Apple_scab', 'Tomato___Bacterial_spot', 'Apple___Black_rot', 'Tomato___Early_blight',\n",
    "        'Apple___Apple_scab', 'Apple___Black_rot', 'Apple___Cedar_apple_rust', 'Apple___healthy',\n",
    "        'Blueberry___healthy', 'Cherry_(including_sour)___Powdery_mildew', 'Cherry_(including_sour)___healthy',\n",
    "        'Corn_(maize)___Cercospora_leaf_spot Gray_leaf_spot', 'Corn_(maize)___Common_rust_',\n",
    "        'Corn_(maize)___Northern_Leaf_Blight', 'Corn_(maize)___healthy', 'Grape___Black_rot',\n",
    "        'Grape___Esca_(Black_Measles)', 'Grape___Leaf_blight_(Isariopsis_Leaf_Spot)', 'Grape___healthy',\n",
    "        'Orange___Haunglongbing_(Citrus_greening)', 'Peach___Bacterial_spot', 'Peach___healthy',\n",
    "        'Pepper,_bell___Bacterial_spot', 'Pepper,_bell___healthy', 'Potato___Early_blight',\n",
    "        'Potato___Late_blight', 'Potato___healthy', 'Raspberry___healthy', 'Soybean___healthy',\n",
    "        'Squash___Powdery_mildew', 'Strawberry___Leaf_scorch', 'Strawberry___healthy',\n",
    "        'Tomato___Bacterial_spot', 'Tomato___Early_blight', 'Tomato___Late_blight',\n",
    "        'Tomato___Leaf_Mold', 'Tomato___Septoria_leaf_spot', 'Tomato___Spider_mites Two-spotted_spider_mite',\n",
    "        'Tomato___Target_Spot', 'Tomato___Tomato_Yellow_Leaf_Curl_Virus', 'Tomato___Tomato_mosaic_virus',\n",
    "        'Tomato___healthy'\n",
    "    ],\n",
    "    'treatment': [\n",
    "        'Use fungicide', 'Apply copper spray', 'Prune infected areas', 'Use resistant varieties',\n",
    "        'Prune the tree oftenly and do sanitation.', 'Remove fallen leaves and start fungicide applications.',\n",
    "        'Remove any cedar trees nearby and regularly inspect rust on plants.', 'The plant is healthy.',\n",
    "        'The plant is healthy.', 'Use fungicides proactively and rotate fungicides.', 'The plant is healthy.',\n",
    "        'Maintain proper nutrition and avoid planting corn continuously in the same field.',\n",
    "        'Collect the remains of the crop and destroy by burning or burying, and weed around maize plots if Oxalis is common.',\n",
    "        'Avoid overhead irrigation during periods when the disease is likely to develop, as it can create conditions conducive to fungal infection.',\n",
    "        'The plant is healthy.', 'Mancozeb and Ziram are highly effective against black rot.',\n",
    "        'Spray Monterey Fruit Tree Spray Plus as a preventative measure.',\n",
    "        'Lemongrass essential oil reduces the severity of Isariopsis leaf spot and downy mildew in grapevines.',\n",
    "        'The plant is healthy.', 'Remove infected material and use horticultural oils.',\n",
    "        'Use a copper-based fungicide spray on the tree\\'s leaves when they begin to fall.',\n",
    "        'The plant is healthy.', 'Seed may be treated in a household bleach solution (2 parts bleach and 8 parts water).',\n",
    "        'The plant is healthy.', 'Chlorothalonil and cutting the foliage and stems down to ground level immediately.',\n",
    "        'Apply fungicides with a spore-killing effect (fluazinam-containing fungicides, Ranman Top) and Dithane (mancozeb) MZ.',\n",
    "        'The plant is healthy.', 'The plant is healthy.', 'Use neem extract to treat powdery mildew.',\n",
    "        'Plant strawberries in a sunny, open location and on a berm or mound of raised soil. Avoid crowding plants and control nearby weeds.',\n",
    "        'The plant is healthy.', 'Use copper-based products or a combination of copper and mancozeb.',\n",
    "        'Use fungicides and rotate crops every 2–3 years to a different plant family. This helps reduce the inoculum density in the field.',\n",
    "        'Avoid planting tomatoes in areas with reduced airflow, like low areas in a garden or field, and avoid fungicides.',\n",
    "        'Improve ventilation, sanitize, and use fungicides.', 'Increase space between plants to improve airflow and reduce humidity, and use fungicides.',\n",
    "        'Use abamectin to get rid of spider mites on tomato plants.',\n",
    "        'Use chlorothalonil, copper oxychloride, or mancozeb.', 'Use Geolife No Virus Tomato & Cucurbit to protect crops from viral diseases.',\n",
    "        'Use a commercial NPK fertilizer at 3 grams per liter of water.', 'The plant is healthy.','The plant is healthy.'\n",
    "    ]\n",
    "}\n",
    "\n",
    "le_disease = LabelEncoder()\n",
    "data['disease_encoded'] = le_disease.fit_transform(data['disease'])\n",
    "\n",
    "le_treatment = LabelEncoder()\n",
    "data['treatment_encoded'] = le_treatment.fit_transform(data['treatment'])\n",
    "\n",
    "X_train, X_test, y_train, y_test = train_test_split(\n",
    "    np.array(data['disease_encoded']).reshape(-1, 1),  \n",
    "    np.array(data['treatment_encoded']),\n",
    "    test_size=0.2,\n",
    "    random_state=42\n",
    ")\n",
    "\n",
    "\n",
    "clf = RandomForestClassifier()\n",
    "clf.fit(X_train, y_train)\n",
    "\n",
    "\n",
    "with open('treatment_recommendation_model.pkl', 'wb') as f:\n",
    "    pickle.dump(clf, f)\n",
    "\n",
    "\n",
    "with open('label_encoder_disease.pkl', 'wb') as f:\n",
    "    pickle.dump(le_disease, f)\n",
    "\n",
    "with open('label_encoder_treatment.pkl', 'wb') as f:\n",
    "    pickle.dump(le_treatment, f)\n"
   ]
  },
  {
   "cell_type": "code",
   "execution_count": 14,
   "metadata": {},
   "outputs": [
    {
     "name": "stdout",
     "output_type": "stream",
     "text": [
      "[1, 3, 6, 10]\n"
     ]
    }
   ],
   "source": [
    "a=[1,2,3,4]\n",
    "b=[]\n",
    "for i in range(len(a)):\n",
    "    b.append(sum(a[:i+1]))\n",
    "print(b)"
   ]
  },
  {
   "cell_type": "code",
   "execution_count": 15,
   "metadata": {},
   "outputs": [
    {
     "name": "stdout",
     "output_type": "stream",
     "text": [
      "['olleh', 'dlrow', 'nohtyp', 'margorp']\n"
     ]
    }
   ],
   "source": [
    "a=[\"hello\",\"world\",\"python\",\"program\"]\n",
    "b=[]\n",
    "for i in a:\n",
    "    b.append(i[::-1])\n",
    "print(b)"
   ]
  }
 ],
 "metadata": {
  "kernelspec": {
   "display_name": "Python 3",
   "language": "python",
   "name": "python3"
  },
  "language_info": {
   "codemirror_mode": {
    "name": "ipython",
    "version": 3
   },
   "file_extension": ".py",
   "mimetype": "text/x-python",
   "name": "python",
   "nbconvert_exporter": "python",
   "pygments_lexer": "ipython3",
   "version": "3.12.4"
  }
 },
 "nbformat": 4,
 "nbformat_minor": 2
}
